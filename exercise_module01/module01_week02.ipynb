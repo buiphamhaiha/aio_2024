{
 "cells": [
  {
   "cell_type": "code",
   "execution_count": 1,
   "metadata": {},
   "outputs": [
    {
     "name": "stdout",
     "output_type": "stream",
     "text": [
      "[5, 5, 5, 5, 10, 12, 33, 33]\n"
     ]
    }
   ],
   "source": [
    "#Câu 1:\n",
    "def max_kernel (num_list , k ) :\n",
    "    start_indexs = list(range(0, len(num_list)-k+1))\n",
    "    end_indexs = list(range(k, len(num_list)+1))\n",
    "    result = []\n",
    "    \n",
    "    for start_index, end_index in zip(start_indexs, end_indexs):\n",
    "        sub_list = num_list[start_index: end_index]\n",
    "        result.append(max(sub_list))\n",
    "\n",
    "    return result \n",
    "\n",
    "assert max_kernel([3, 4, 5, 1, -44], 3) == [5, 5, 5]\n",
    "num_list = [3, 4, 5, 1, -44, 5, 10, 12, 33, 1]\n",
    "k = 3\n",
    "print(max_kernel(num_list,k))"
   ]
  },
  {
   "cell_type": "code",
   "execution_count": 5,
   "metadata": {},
   "outputs": [
    {
     "name": "stdout",
     "output_type": "stream",
     "text": [
      "{'H': 1, 'a': 1, 'p': 2, 'i': 1, 'n': 1, 'e': 1, 's': 2}\n",
      "{'s': 2, 'm': 1, 'i': 1, 'l': 1, 'e': 1}\n"
     ]
    }
   ],
   "source": [
    "#Câu 2:\n",
    "def count_chars(string):\n",
    "    character_statistic = {}\n",
    "\n",
    "    for character in string:\n",
    "        if character in character_statistic:\n",
    "            character_statistic[character] += 1\n",
    "        else:\n",
    "            character_statistic[character] = 1\n",
    "    return character_statistic\n",
    "\n",
    "string1 = 'Happiness'\n",
    "print(count_chars(string1))\n",
    "\n",
    "string2 = 'smiles'\n",
    "print(count_chars(string2))"
   ]
  },
  {
   "cell_type": "code",
   "execution_count": 4,
   "metadata": {},
   "outputs": [
    {
     "data": {
      "text/plain": [
       "{'He': 1,\n",
       " 'who': 3,\n",
       " 'conquers': 1,\n",
       " 'himself': 1,\n",
       " 'is': 3,\n",
       " 'the': 4,\n",
       " 'mightiest': 1,\n",
       " 'warrior': 1,\n",
       " 'Try': 1,\n",
       " 'not': 1,\n",
       " 'to': 3,\n",
       " 'become': 2,\n",
       " 'a': 6,\n",
       " 'man': 6,\n",
       " 'of': 4,\n",
       " 'success': 2,\n",
       " 'but': 1,\n",
       " 'rather': 1,\n",
       " 'value': 1,\n",
       " 'One': 2,\n",
       " 'with': 4,\n",
       " 'courage': 1,\n",
       " 'makes': 1,\n",
       " 'majority': 1,\n",
       " 'secret': 1,\n",
       " 'in': 4,\n",
       " 'life': 2,\n",
       " 'for': 3,\n",
       " 'be': 1,\n",
       " 'ready': 1,\n",
       " 'his': 2,\n",
       " 'opportunity': 1,\n",
       " 'when': 2,\n",
       " 'it': 2,\n",
       " 'comes': 2,\n",
       " 'The': 1,\n",
       " 'successful': 2,\n",
       " 'will': 2,\n",
       " 'profit': 1,\n",
       " 'from': 1,\n",
       " 'mistakes': 1,\n",
       " 'and': 1,\n",
       " 'try': 1,\n",
       " 'again': 1,\n",
       " 'different': 1,\n",
       " 'way': 1,\n",
       " 'A': 1,\n",
       " 'one': 2,\n",
       " 'can': 3,\n",
       " 'lay': 1,\n",
       " 'firm': 1,\n",
       " 'foundation': 1,\n",
       " 'bricks': 1,\n",
       " 'others': 1,\n",
       " 'have': 1,\n",
       " 'thrown': 1,\n",
       " 'at': 1,\n",
       " 'him': 1,\n",
       " 'Success': 1,\n",
       " 'usually': 1,\n",
       " 'those': 1,\n",
       " 'are': 1,\n",
       " 'too': 1,\n",
       " 'busy': 1,\n",
       " 'looking': 1,\n",
       " 'We': 1,\n",
       " 'cannot': 1,\n",
       " 'solve': 1,\n",
       " 'problems': 1,\n",
       " 'kind': 1,\n",
       " 'thinking': 1,\n",
       " 'we': 2,\n",
       " 'employed': 1,\n",
       " 'came': 1,\n",
       " 'up': 1,\n",
       " 'them': 1,\n",
       " 'Just': 1,\n",
       " 'small': 1,\n",
       " 'positive': 1,\n",
       " 'thought': 1,\n",
       " 'morning': 1,\n",
       " 'change': 1,\n",
       " 'your': 1,\n",
       " 'whole': 1,\n",
       " 'day': 1,\n",
       " 'You': 1,\n",
       " 'get': 2,\n",
       " 'everything': 1,\n",
       " 'you': 2,\n",
       " 'want': 2,\n",
       " 'if': 1,\n",
       " 'just': 1,\n",
       " 'help': 1,\n",
       " 'enough': 1,\n",
       " 'other': 1,\n",
       " 'people': 1,\n",
       " 'what': 1,\n",
       " 'they': 1}"
      ]
     },
     "execution_count": 4,
     "metadata": {},
     "output_type": "execute_result"
    }
   ],
   "source": [
    "#Câu 3:\n",
    "def word_count(file_path):\n",
    "    with open(file_path, 'r') as f:\n",
    "        document = f.read()\n",
    "\n",
    "    words = document.split()\n",
    "\n",
    "    counter = {}\n",
    "    for word in words:\n",
    "        if word in counter:\n",
    "            counter[word] += 1\n",
    "        else:\n",
    "            counter[word] = 1\n",
    "    return counter\n",
    "file_path = \"C:/Users/My Dell/OneDrive/Desktop/P1_data.txt\"\n",
    "word_count(file_path)"
   ]
  },
  {
   "cell_type": "code",
   "execution_count": 7,
   "metadata": {},
   "outputs": [
    {
     "name": "stdout",
     "output_type": "stream",
     "text": [
      "3\n",
      "1\n"
     ]
    }
   ],
   "source": [
    "def initialize_distances(token1, token2):\n",
    "    distances = [[0] * (len(token2) + 1) for _ in range(len(token1) + 1)]\n",
    "    \n",
    "    for t1 in range(len(token1) + 1):\n",
    "        distances[t1][0] = t1\n",
    "\n",
    "    for t2 in range(len(token2) + 1):\n",
    "        distances[0][t2] = t2\n",
    "    \n",
    "    return distances\n",
    "\n",
    "def calculate_distance(distances, token1, token2):\n",
    "    for t1 in range(1, len(token1) + 1):\n",
    "        for t2 in range(1, len(token2) + 1):\n",
    "            if token1[t1 - 1] == token2[t2 - 1]:\n",
    "                distances[t1][t2] = distances[t1 - 1][t2 - 1]\n",
    "            else:\n",
    "                a = distances[t1][t2 - 1]\n",
    "                b = distances[t1 - 1][t2]\n",
    "                c = distances[t1 - 1][t2 - 1]\n",
    "                distances[t1][t2] = min(a, b, c) + 1\n",
    "\n",
    "def levenshtein_distance(token1, token2):\n",
    "    distances = initialize_distances(token1, token2)\n",
    "    calculate_distance(distances, token1, token2)\n",
    "    return distances[len(token1)][len(token2)]\n",
    "\n",
    "print(levenshtein_distance(\"kitten\", \"sitting\"))\n",
    "print(levenshtein_distance(\"yu\", \"you\"))"
   ]
  }
 ],
 "metadata": {
  "kernelspec": {
   "display_name": "Python 3",
   "language": "python",
   "name": "python3"
  },
  "language_info": {
   "codemirror_mode": {
    "name": "ipython",
    "version": 3
   },
   "file_extension": ".py",
   "mimetype": "text/x-python",
   "name": "python",
   "nbconvert_exporter": "python",
   "pygments_lexer": "ipython3",
   "version": "3.10.4"
  }
 },
 "nbformat": 4,
 "nbformat_minor": 2
}
